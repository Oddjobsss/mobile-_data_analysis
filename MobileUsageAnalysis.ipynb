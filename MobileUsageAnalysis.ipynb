{
  "nbformat": 4,
  "nbformat_minor": 0,
  "metadata": {
    "colab": {
      "provenance": [],
      "mount_file_id": "1QSysP7Wd7G4y6sS1zxCi4qK-gHzJpc3J",
      "authorship_tag": "ABX9TyNluyOClZgewCY8H/U24irW",
      "include_colab_link": true
    },
    "kernelspec": {
      "name": "python3",
      "display_name": "Python 3"
    },
    "language_info": {
      "name": "python"
    }
  },
  "cells": [
    {
      "cell_type": "markdown",
      "metadata": {
        "id": "view-in-github",
        "colab_type": "text"
      },
      "source": [
        "<a href=\"https://colab.research.google.com/github/Oddjobsss/mobile-_data_analysis/blob/main/MobileUsageAnalysis.ipynb\" target=\"_parent\"><img src=\"https://colab.research.google.com/assets/colab-badge.svg\" alt=\"Open In Colab\"/></a>"
      ]
    },
    {
      "cell_type": "code",
      "source": [
        "!pip install Faker\n"
      ],
      "metadata": {
        "colab": {
          "base_uri": "https://localhost:8080/"
        },
        "id": "RX9vq6nkooJp",
        "outputId": "d32143ce-6d2d-4e94-ecb7-4317885ed94c"
      },
      "execution_count": null,
      "outputs": [
        {
          "output_type": "stream",
          "name": "stdout",
          "text": [
            "Collecting Faker\n",
            "  Downloading faker-37.4.2-py3-none-any.whl.metadata (15 kB)\n",
            "Requirement already satisfied: tzdata in /usr/local/lib/python3.11/dist-packages (from Faker) (2025.2)\n",
            "Downloading faker-37.4.2-py3-none-any.whl (1.9 MB)\n",
            "\u001b[2K   \u001b[90m━━━━━━━━━━━━━━━━━━━━━━━━━━━━━━━━━━━━━━━━\u001b[0m \u001b[32m1.9/1.9 MB\u001b[0m \u001b[31m22.9 MB/s\u001b[0m eta \u001b[36m0:00:00\u001b[0m\n",
            "\u001b[?25hInstalling collected packages: Faker\n",
            "Successfully installed Faker-37.4.2\n"
          ]
        }
      ]
    },
    {
      "cell_type": "code",
      "execution_count": null,
      "metadata": {
        "id": "B1pQRfvQmlfD"
      },
      "outputs": [],
      "source": [
        "import pandas as pd\n",
        "import random\n",
        "from faker import Faker\n",
        "\n",
        "\n",
        "# Step 1: Setup\n",
        "fake = Faker()\n",
        "users = ['U001', 'U002', 'U003', 'U004', 'U005']\n",
        "apps = ['YouTube', 'WhatsApp', 'Instagram', 'Facebook', 'Snapchat']\n",
        "data = []\n",
        "\n",
        "# Step 2: Generate random data\n",
        "for _ in range(1000):\n",
        "    user = random.choice(users)\n",
        "    date = fake.date_between(start_date='-30d', end_date='today')\n",
        "    call = random.randint(0, 60)\n",
        "    data_used = random.randint(100, 3000)\n",
        "    sms = random.randint(0, 10)\n",
        "    recharge = random.choice([0, 149, 199, 249])\n",
        "    top_apps = ', '.join(random.sample(apps, 2))\n",
        "    hour = random.randint(0, 23)\n",
        "    location = \"Kolkata\"\n",
        "\n",
        "    data.append([user, date, call, data_used, sms, recharge, top_apps, hour, location])\n",
        "\n",
        "# Step 3: Create DataFrame\n",
        "df = pd.DataFrame(data, columns=[\n",
        "    'User_ID', 'Date', 'Call_Minutes', 'Data_Used_MB',\n",
        "    'SMS_Count', 'Recharge_Amount', 'Top_Apps', 'Hour', 'Location'\n",
        "])\n",
        "df['Date'] = pd.to_datetime(df['Date'])\n",
        "\n",
        "# Step 4: Save dataset\n",
        "df.to_csv('mobile_usage.csv', index=False)\n",
        "\n",
        "\n"
      ]
    },
    {
      "cell_type": "code",
      "source": [
        "# Extract month\n",
        "df['Month'] = df['Date'].dt.month_name()\n",
        "\n",
        "# Extract weekday\n",
        "df['Weekday'] = df['Date'].dt.day_name()\n",
        "\n",
        "# Filter by July\n",
        "df_july = df[df['Date'].dt.month == 7]\n",
        "\n",
        "# Time range\n",
        "print(df['Date'].min(), df['Date'].max())\n"
      ],
      "metadata": {
        "colab": {
          "base_uri": "https://localhost:8080/"
        },
        "id": "XxDgElZurBOU",
        "outputId": "065275fe-b8e4-495f-c520-3ce02b34a367"
      },
      "execution_count": null,
      "outputs": [
        {
          "output_type": "stream",
          "name": "stdout",
          "text": [
            "2025-06-21 00:00:00 2025-07-20 00:00:00\n"
          ]
        }
      ]
    },
    {
      "cell_type": "code",
      "source": [
        "print(df.head)\n"
      ],
      "metadata": {
        "colab": {
          "base_uri": "https://localhost:8080/"
        },
        "id": "GABR51slo6m3",
        "outputId": "8d55a048-e6de-42a6-cd90-57199cdbdbf8"
      },
      "execution_count": null,
      "outputs": [
        {
          "output_type": "stream",
          "name": "stdout",
          "text": [
            "<bound method NDFrame.head of     User_ID       Date  Call_Minutes  Data_Used_MB  SMS_Count  \\\n",
            "0      U004 2025-06-22            13          1442          2   \n",
            "1      U004 2025-06-28             9          2216          1   \n",
            "2      U002 2025-07-11            19           895          6   \n",
            "3      U004 2025-06-30            44          2591          2   \n",
            "4      U003 2025-07-18            42          2897          2   \n",
            "..      ...        ...           ...           ...        ...   \n",
            "995    U004 2025-06-26            42          1687          6   \n",
            "996    U005 2025-06-30             0           651          9   \n",
            "997    U002 2025-07-17            50          1282          4   \n",
            "998    U004 2025-07-20            49          1009          1   \n",
            "999    U003 2025-07-19            39          2263          4   \n",
            "\n",
            "     Recharge_Amount            Top_Apps  Hour Location Month   Weekday  \n",
            "0                249   YouTube, Snapchat     8  Kolkata  June    Sunday  \n",
            "1                199   YouTube, WhatsApp    20  Kolkata  June  Saturday  \n",
            "2                149  Instagram, YouTube    13  Kolkata  July    Friday  \n",
            "3                  0   WhatsApp, YouTube     7  Kolkata  June    Monday  \n",
            "4                199   YouTube, WhatsApp     5  Kolkata  July    Friday  \n",
            "..               ...                 ...   ...      ...   ...       ...  \n",
            "995                0   Snapchat, YouTube     6  Kolkata  June  Thursday  \n",
            "996              199   Snapchat, YouTube     5  Kolkata  June    Monday  \n",
            "997                0  WhatsApp, Facebook     8  Kolkata  July  Thursday  \n",
            "998              249   Facebook, YouTube     6  Kolkata  July    Sunday  \n",
            "999              249  Facebook, WhatsApp     9  Kolkata  July  Saturday  \n",
            "\n",
            "[1000 rows x 11 columns]>\n"
          ]
        }
      ]
    },
    {
      "cell_type": "code",
      "source": [
        "print(df.dtypes)"
      ],
      "metadata": {
        "colab": {
          "base_uri": "https://localhost:8080/"
        },
        "id": "unyqhMDkp0MV",
        "outputId": "c4ae6786-495c-483c-fd7b-34ad9a298582"
      },
      "execution_count": null,
      "outputs": [
        {
          "output_type": "stream",
          "name": "stdout",
          "text": [
            "User_ID                    object\n",
            "Date               datetime64[ns]\n",
            "Call_Minutes                int64\n",
            "Data_Used_MB                int64\n",
            "SMS_Count                   int64\n",
            "Recharge_Amount             int64\n",
            "Top_Apps                   object\n",
            "Hour                        int64\n",
            "Location                   object\n",
            "dtype: object\n"
          ]
        }
      ]
    },
    {
      "cell_type": "code",
      "source": [
        "\n",
        "# STEP 3: Drop rows with missing or invalid values\n",
        "df.dropna(inplace=True)\n",
        "\n",
        "# STEP 4: Remove duplicates\n",
        "df.drop_duplicates(inplace=True)\n",
        "\n",
        "# STEP 5: Remove negative values if any (invalid for usage stats)\n",
        "df = df[\n",
        "    (df['Call_Minutes'] >= 0) &\n",
        "    (df['Data_Used_MB'] >= 0) &\n",
        "    (df['SMS_Count'] >= 0) &\n",
        "    (df['Recharge_Amount'] >= 0) &\n",
        "    (df['Hour'] >= 0) & (df['Hour'] <= 23)\n",
        "]\n",
        "\n",
        "# STEP 6: Strip and standardize text columns\n",
        "df['User_ID'] = df['User_ID'].str.strip()\n",
        "df['Top_Apps'] = df['Top_Apps'].str.title().str.strip()\n",
        "df['Location'] = df['Location'].str.title().str.strip()\n",
        "\n",
        "# STEP 7: Optional - create extra features\n",
        "df['Weekday'] = df['Date'].dt.day_name()\n",
        "df['Month'] = df['Date'].dt.month_name()\n",
        "\n",
        "# STEP 8: Save cleaned dataset\n",
        "df.to_csv(\"cleaned_mobile_usage.csv\", index=False)"
      ],
      "metadata": {
        "id": "1rBo_Tlktur_"
      },
      "execution_count": null,
      "outputs": []
    },
    {
      "cell_type": "code",
      "source": [
        "print(df.head())"
      ],
      "metadata": {
        "colab": {
          "base_uri": "https://localhost:8080/"
        },
        "id": "q1jv5zuIt1x3",
        "outputId": "8ce5dfe5-d5f5-42d2-a330-b95bf7a60aa5"
      },
      "execution_count": null,
      "outputs": [
        {
          "output_type": "stream",
          "name": "stdout",
          "text": [
            "  User_ID       Date  Call_Minutes  Data_Used_MB  SMS_Count  Recharge_Amount  \\\n",
            "0    U004 2025-06-22            13          1442          2              249   \n",
            "1    U004 2025-06-28             9          2216          1              199   \n",
            "2    U002 2025-07-11            19           895          6              149   \n",
            "3    U004 2025-06-30            44          2591          2                0   \n",
            "4    U003 2025-07-18            42          2897          2              199   \n",
            "\n",
            "             Top_Apps  Hour Location Month   Weekday  \n",
            "0   Youtube, Snapchat     8  Kolkata  June    Sunday  \n",
            "1   Youtube, Whatsapp    20  Kolkata  June  Saturday  \n",
            "2  Instagram, Youtube    13  Kolkata  July    Friday  \n",
            "3   Whatsapp, Youtube     7  Kolkata  June    Monday  \n",
            "4   Youtube, Whatsapp     5  Kolkata  July    Friday  \n"
          ]
        }
      ]
    },
    {
      "cell_type": "code",
      "source": [
        "df['Hour'] = pd.to_numeric(df['Hour'], errors='coerce')\n",
        "df['Data_Used_MB'] = pd.to_numeric(df['Data_Used_MB'], errors='coerce')\n",
        "\n",
        "df = df.dropna(subset=['Hour', 'Data_Used_MB'])\n"
      ],
      "metadata": {
        "id": "FsjOENFLvzMM"
      },
      "execution_count": null,
      "outputs": []
    },
    {
      "cell_type": "code",
      "source": [
        "import seaborn as sns\n",
        "import matplotlib.pyplot as plt\n",
        "\n",
        "plt.figure(figsize=(10,6))\n",
        "sns.barplot(x='Hour', y='Data_Used_MB', data=df, estimator=sum)\n",
        "plt.title('Total Data Used by Hour')\n",
        "plt.xlabel('Hour of Day')\n",
        "plt.ylabel('Total Data Used (MB)')\n",
        "plt.show()\n"
      ],
      "metadata": {
        "colab": {
          "base_uri": "https://localhost:8080/",
          "height": 409
        },
        "id": "ylzcIRf9vadR",
        "outputId": "c81eff73-8979-4534-9f35-816ae686c4fb"
      },
      "execution_count": null,
      "outputs": [
        {
          "output_type": "display_data",
          "data": {
            "text/plain": [
              "<Figure size 1000x600 with 1 Axes>"
            ],
            "image/png": "[encoded data removed]"
          },
          "metadata": {}
        }
      ]
    }
  ]
}